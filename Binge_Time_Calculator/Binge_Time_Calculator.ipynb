{
 "cells": [
  {
   "cell_type": "code",
   "execution_count": 1,
   "id": "24273387",
   "metadata": {},
   "outputs": [
    {
     "name": "stdout",
     "output_type": "stream",
     "text": [
      "  User_ID Content_ID Content_Type        Session_Start          Session_End  \\\n",
      "0    U010       C404      TV Show  2025-05-09 22:31:00  2025-05-09 23:33:00   \n",
      "1    U009       C101      TV Show  2025-05-03 18:35:00  2025-05-03 19:12:00   \n",
      "2    U007       C101      TV Show  2025-05-10 20:06:00  2025-05-10 20:38:00   \n",
      "3    U007       C505        Movie  2025-05-10 22:27:00  2025-05-11 00:17:00   \n",
      "4    U005       C202        Movie  2025-05-06 20:02:00  2025-05-06 21:48:00   \n",
      "\n",
      "   Duration_Minutes  Episodes_Watched  \n",
      "0                62                 2  \n",
      "1                37                 1  \n",
      "2                32                 1  \n",
      "3               110                 1  \n",
      "4               106                 1  \n"
     ]
    }
   ],
   "source": [
    "import pandas as pd\n",
    "\n",
    "# Load your dataset\n",
    "df = pd.read_csv(r\"C:\\Users\\monik\\OneDrive\\Desktop\\Projects\\BingeTimeCalculator\\binge_time_dataset_500.csv\")\n",
    "\n",
    "# Show first 5 rows \n",
    "print(df.head())"
   ]
  },
  {
   "cell_type": "code",
   "execution_count": 2,
   "id": "25e17db9",
   "metadata": {},
   "outputs": [
    {
     "name": "stdout",
     "output_type": "stream",
     "text": [
      "<class 'pandas.core.frame.DataFrame'>\n",
      "RangeIndex: 500 entries, 0 to 499\n",
      "Data columns (total 7 columns):\n",
      " #   Column            Non-Null Count  Dtype \n",
      "---  ------            --------------  ----- \n",
      " 0   User_ID           500 non-null    object\n",
      " 1   Content_ID        500 non-null    object\n",
      " 2   Content_Type      500 non-null    object\n",
      " 3   Session_Start     500 non-null    object\n",
      " 4   Session_End       500 non-null    object\n",
      " 5   Duration_Minutes  500 non-null    int64 \n",
      " 6   Episodes_Watched  500 non-null    int64 \n",
      "dtypes: int64(2), object(5)\n",
      "memory usage: 27.5+ KB\n",
      "None\n"
     ]
    }
   ],
   "source": [
    "print(df.info())"
   ]
  }
 ],
 "metadata": {
  "kernelspec": {
   "display_name": "Python 3",
   "language": "python",
   "name": "python3"
  },
  "language_info": {
   "codemirror_mode": {
    "name": "ipython",
    "version": 3
   },
   "file_extension": ".py",
   "mimetype": "text/x-python",
   "name": "python",
   "nbconvert_exporter": "python",
   "pygments_lexer": "ipython3",
   "version": "3.12.5"
  }
 },
 "nbformat": 4,
 "nbformat_minor": 5
}
