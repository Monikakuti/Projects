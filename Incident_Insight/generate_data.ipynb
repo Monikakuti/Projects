{
 "cells": [
  {
   "cell_type": "code",
   "execution_count": null,
   "id": "dce7d766",
   "metadata": {},
   "outputs": [],
   "source": [
    "#“Incident-to-Insight” Root Cause & Impact Analysis "
   ]
  },
  {
   "cell_type": "code",
   "execution_count": 1,
   "id": "d466fbe2",
   "metadata": {},
   "outputs": [
    {
     "name": "stdout",
     "output_type": "stream",
     "text": [
      "Collecting faker\n",
      "  Downloading faker-37.3.0-py3-none-any.whl.metadata (15 kB)\n",
      "Requirement already satisfied: tzdata in c:\\users\\monik\\appdata\\local\\programs\\python\\python312\\lib\\site-packages (from faker) (2025.1)\n",
      "Downloading faker-37.3.0-py3-none-any.whl (1.9 MB)\n",
      "   ---------------------------------------- 0.0/1.9 MB ? eta -:--:--\n",
      "   ---------------------------------------- 1.9/1.9 MB 18.1 MB/s eta 0:00:00\n",
      "Installing collected packages: faker\n",
      "Successfully installed faker-37.3.0\n",
      "Note: you may need to restart the kernel to use updated packages.\n"
     ]
    },
    {
     "name": "stderr",
     "output_type": "stream",
     "text": [
      "\n",
      "[notice] A new release of pip is available: 24.2 -> 25.1.1\n",
      "[notice] To update, run: python.exe -m pip install --upgrade pip\n"
     ]
    }
   ],
   "source": [
    "!pip install faker"
   ]
  },
  {
   "cell_type": "code",
   "execution_count": 4,
   "id": "9f7c0709",
   "metadata": {},
   "outputs": [
    {
     "name": "stdout",
     "output_type": "stream",
     "text": [
      "✅ tickets_data.csv generated successfully.\n",
      "✅ agents_data.csv generated successfully.\n"
     ]
    }
   ],
   "source": [
    "import pandas as pd\n",
    "import random\n",
    "from faker import Faker\n",
    "import numpy as np\n",
    "\n",
    "# Initialize faker and seed\n",
    "fake = Faker()\n",
    "Faker.seed(0)\n",
    "random.seed(0)\n",
    "np.random.seed(0)\n",
    "\n",
    "# Configuration\n",
    "num_tickets = 5000\n",
    "num_agents = 10\n",
    "\n",
    "# Define categories and values\n",
    "categories = ['Batch Job', 'Access Issue', 'Server Down', 'Report Error', 'Login Failure']\n",
    "systems = ['FDW_App1', 'FDW_App2', 'Report_Portal', 'Control-M', 'CyberArk']\n",
    "priorities = ['Low', 'Medium', 'High', 'Critical']\n",
    "status = 'Closed'\n",
    "root_causes = ['Configuration Error', 'Network Glitch', 'Permission Missing', 'Database Timeout', 'User Error', 'Unknown']\n",
    "\n",
    "# Generate ticket data\n",
    "ticket_data = []\n",
    "for i in range(1, num_tickets + 1):\n",
    "    created_at = fake.date_time_between(start_date='-60d', end_date='now')\n",
    "    resolved_at = created_at + pd.to_timedelta(random.randint(1, 72), unit='h')\n",
    "    ticket_data.append([\n",
    "        i,\n",
    "        created_at,\n",
    "        resolved_at,\n",
    "        random.choice(categories),\n",
    "        random.choice(systems),\n",
    "        random.choice(priorities),\n",
    "        status,\n",
    "        fake.sentence(nb_words=6),\n",
    "        random.choice(root_causes)\n",
    "    ])\n",
    "\n",
    "# Create DataFrame\n",
    "tickets_df = pd.DataFrame(ticket_data, columns=[\n",
    "    'ticket_id', 'created_at', 'resolved_at', 'category', 'system_name',\n",
    "    'priority', 'status', 'resolution_notes', 'root_cause'\n",
    "])\n",
    "\n",
    "# Save to CSV\n",
    "tickets_df.to_csv(r\"C:\\Users\\monik\\OneDrive\\Desktop\\Projects\\Capstone\\Project1_Incident_Insight\\Pythonfile\\tickets_data.csv\", index=False)\n",
    "print(\"✅ tickets_data.csv generated successfully.\")\n",
    "\n",
    "# Generate agent data\n",
    "agents = []\n",
    "for i in range(1, num_agents + 1):\n",
    "    name = fake.name()\n",
    "    tickets_handled = random.randint(100, 800)\n",
    "    avg_time = round(random.uniform(2.5, 12), 2)\n",
    "    agents.append([i, name, tickets_handled, avg_time])\n",
    "\n",
    "agents_df = pd.DataFrame(agents, columns=[\n",
    "    'agent_id', 'name', 'tickets_handled', 'avg_resolution_time'\n",
    "])\n",
    "\n",
    "agents_df.to_csv(r\"C:\\Users\\monik\\OneDrive\\Desktop\\Projects\\Capstone\\Project1_Incident_Insight\\Pythonfile\\agents_data.csv\", index=False)\n",
    "print(\"✅ agents_data.csv generated successfully.\")\n"
   ]
  }
 ],
 "metadata": {
  "kernelspec": {
   "display_name": "Python 3",
   "language": "python",
   "name": "python3"
  },
  "language_info": {
   "codemirror_mode": {
    "name": "ipython",
    "version": 3
   },
   "file_extension": ".py",
   "mimetype": "text/x-python",
   "name": "python",
   "nbconvert_exporter": "python",
   "pygments_lexer": "ipython3",
   "version": "3.12.5"
  }
 },
 "nbformat": 4,
 "nbformat_minor": 5
}
