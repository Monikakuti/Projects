{
 "cells": [
  {
   "cell_type": "code",
   "execution_count": null,
   "id": "e16ab46c",
   "metadata": {},
   "outputs": [
    {
     "name": "stdout",
     "output_type": "stream",
     "text": [
      "✅ Data cleaned and saved to 'cleaned_tickets_data.csv'\n"
     ]
    }
   ],
   "source": [
    "import pandas as pd\n",
    "\n",
    "# Load dataset\n",
    "df = pd.read_csv(r'C:\\Users\\monik\\OneDrive\\Desktop\\Projects\\Capstone\\Project1_Incident_Insight\\tickets_data.csv', parse_dates=['created_at', 'resolved_at'])\n",
    "\n",
    "# Calculate resolution time (in hours)\n",
    "df['resolution_time_hrs'] = (df['resolved_at'] - df['created_at']).dt.total_seconds() / 3600\n",
    "\n",
    "# SLA breach flag (breach if > 8 hrs)\n",
    "df['sla_breached'] = df['resolution_time_hrs'] > 8\n",
    "\n",
    "# Root cause analysis\n",
    "root_cause_counts = df['root_cause'].value_counts().reset_index()\n",
    "root_cause_counts.columns = ['root_cause', 'count']\n",
    "\n",
    "# Priority distribution\n",
    "priority_dist = df['priority'].value_counts().reset_index()\n",
    "priority_dist.columns = ['priority', 'count']\n",
    "\n",
    "# Category vs Avg Resolution Time\n",
    "category_group = df.groupby('category')['resolution_time_hrs'].mean().reset_index()\n",
    "\n",
    "# System vs SLA Breaches\n",
    "sla_by_system = df.groupby('system_name')['sla_breached'].mean().reset_index()\n",
    "sla_by_system.columns = ['system_name', 'sla_breach_rate']\n",
    "\n",
    "# Day and Hour for time-based insights\n",
    "df['created_day'] = df['created_at'].dt.day_name()\n",
    "df['created_hour'] = df['created_at'].dt.hour\n",
    "\n",
    "# Save cleaned dataset for Power BI\n",
    "df.to_csv(r\"C:\\Users\\monik\\OneDrive\\Desktop\\Projects\\Capstone\\Project1_Incident_Insight\\cleaned_tickets_data.csv\", index=False)\n",
    "\n",
    "print(\"✅ Data cleaned and saved to 'cleaned_tickets_data.csv'\")\n"
   ]
  }
 ],
 "metadata": {
  "kernelspec": {
   "display_name": "Python 3",
   "language": "python",
   "name": "python3"
  },
  "language_info": {
   "codemirror_mode": {
    "name": "ipython",
    "version": 3
   },
   "file_extension": ".py",
   "mimetype": "text/x-python",
   "name": "python",
   "nbconvert_exporter": "python",
   "pygments_lexer": "ipython3",
   "version": "3.12.5"
  }
 },
 "nbformat": 4,
 "nbformat_minor": 5
}
